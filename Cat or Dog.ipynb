{
 "cells": [
  {
   "attachments": {},
   "cell_type": "markdown",
   "metadata": {},
   "source": [
    "###\n",
    "                                                            CAT-OR-DOG"
   ]
  },
  {
   "attachments": {},
   "cell_type": "markdown",
   "metadata": {},
   "source": [
    "#### Importing the Libraries:"
   ]
  },
  {
   "cell_type": "code",
   "execution_count": 1,
   "metadata": {},
   "outputs": [],
   "source": [
    "import tensorflow as tf\n",
    "from keras.preprocessing.image import ImageDataGenerator"
   ]
  },
  {
   "cell_type": "code",
   "execution_count": 2,
   "metadata": {},
   "outputs": [
    {
     "data": {
      "text/plain": [
       "'2.11.0'"
      ]
     },
     "execution_count": 2,
     "metadata": {},
     "output_type": "execute_result"
    }
   ],
   "source": [
    "tf.__version__"
   ]
  },
  {
   "attachments": {},
   "cell_type": "markdown",
   "metadata": {},
   "source": [
    "#### Data Preprocessing:"
   ]
  },
  {
   "attachments": {},
   "cell_type": "markdown",
   "metadata": {},
   "source": [
    "- Preprocessing the Training set: "
   ]
  },
  {
   "cell_type": "code",
   "execution_count": 3,
   "metadata": {},
   "outputs": [
    {
     "name": "stdout",
     "output_type": "stream",
     "text": [
      "Found 8000 images belonging to 2 classes.\n"
     ]
    }
   ],
   "source": [
    "train_datagen = ImageDataGenerator(rescale = 1./255, shear_range = 0.2, zoom_range = 0.2, horizontal_flip = True, vertical_flip=True)\n",
    "training_set = train_datagen.flow_from_directory('dataset/training_set', target_size = (64, 64), batch_size = 32, class_mode = 'binary')"
   ]
  },
  {
   "attachments": {},
   "cell_type": "markdown",
   "metadata": {},
   "source": [
    "- Preprocessing the Test set:"
   ]
  },
  {
   "cell_type": "code",
   "execution_count": 4,
   "metadata": {},
   "outputs": [
    {
     "name": "stdout",
     "output_type": "stream",
     "text": [
      "Found 2000 images belonging to 2 classes.\n"
     ]
    }
   ],
   "source": [
    "test_datagen = ImageDataGenerator(rescale = 1./255)\n",
    "test_set = test_datagen.flow_from_directory('dataset/test_set', target_size = (64,64), batch_size = 32, class_mode = 'binary')"
   ]
  },
  {
   "attachments": {},
   "cell_type": "markdown",
   "metadata": {},
   "source": [
    "#### Building the CNN:"
   ]
  },
  {
   "attachments": {},
   "cell_type": "markdown",
   "metadata": {},
   "source": [
    "- Initialising the CNN:"
   ]
  },
  {
   "cell_type": "code",
   "execution_count": 5,
   "metadata": {},
   "outputs": [],
   "source": [
    "cnn = tf.keras.models.Sequential()"
   ]
  },
  {
   "attachments": {},
   "cell_type": "markdown",
   "metadata": {},
   "source": [
    "- Step 1 : Convolution"
   ]
  },
  {
   "cell_type": "code",
   "execution_count": 6,
   "metadata": {},
   "outputs": [],
   "source": [
    "cnn.add(tf.keras.layers.Conv2D(filters=32, kernel_size=3, activation='relu', input_shape=[64, 64, 3]))"
   ]
  },
  {
   "attachments": {},
   "cell_type": "markdown",
   "metadata": {},
   "source": [
    "- Step 2 : Pooling"
   ]
  },
  {
   "cell_type": "code",
   "execution_count": 7,
   "metadata": {},
   "outputs": [],
   "source": [
    "cnn.add(tf.keras.layers.MaxPool2D(pool_size=2, strides=2))"
   ]
  },
  {
   "attachments": {},
   "cell_type": "markdown",
   "metadata": {},
   "source": [
    "- Adding the second convolutional layer:"
   ]
  },
  {
   "cell_type": "code",
   "execution_count": 8,
   "metadata": {},
   "outputs": [],
   "source": [
    "cnn.add(tf.keras.layers.Conv2D(filters=32, kernel_size=3, activation='relu'))\n",
    "cnn.add(tf.keras.layers.MaxPool2D(pool_size=2, strides=2))"
   ]
  },
  {
   "attachments": {},
   "cell_type": "markdown",
   "metadata": {},
   "source": [
    "- Step 3 : Flattening"
   ]
  },
  {
   "cell_type": "code",
   "execution_count": 9,
   "metadata": {},
   "outputs": [],
   "source": [
    "cnn.add(tf.keras.layers.Flatten())"
   ]
  },
  {
   "attachments": {},
   "cell_type": "markdown",
   "metadata": {},
   "source": [
    "- Step 4 : Full Connection"
   ]
  },
  {
   "cell_type": "code",
   "execution_count": 10,
   "metadata": {},
   "outputs": [],
   "source": [
    "cnn.add(tf.keras.layers.Dense(units=128, activation='relu'))"
   ]
  },
  {
   "attachments": {},
   "cell_type": "markdown",
   "metadata": {},
   "source": [
    "- Step 5 : Output Layer"
   ]
  },
  {
   "cell_type": "code",
   "execution_count": 11,
   "metadata": {},
   "outputs": [],
   "source": [
    "cnn.add(tf.keras.layers.Dense(units=1, activation='sigmoid'))"
   ]
  },
  {
   "attachments": {},
   "cell_type": "markdown",
   "metadata": {},
   "source": [
    "#### Training the CNN:"
   ]
  },
  {
   "attachments": {},
   "cell_type": "markdown",
   "metadata": {},
   "source": [
    "- Compiling the CNN:"
   ]
  },
  {
   "cell_type": "code",
   "execution_count": 12,
   "metadata": {},
   "outputs": [],
   "source": [
    "cnn.compile(optimizer = 'adam', loss = 'binary_crossentropy', metrics = ['accuracy'])"
   ]
  },
  {
   "attachments": {},
   "cell_type": "markdown",
   "metadata": {},
   "source": [
    "- Training the CNN on the Training set and evaluating it on the Test set:"
   ]
  },
  {
   "cell_type": "code",
   "execution_count": 13,
   "metadata": {},
   "outputs": [
    {
     "name": "stdout",
     "output_type": "stream",
     "text": [
      "Epoch 1/25\n",
      "250/250 [==============================] - 329s 1s/step - loss: 0.6898 - accuracy: 0.5389 - val_loss: 0.6740 - val_accuracy: 0.5785\n",
      "Epoch 2/25\n",
      "250/250 [==============================] - 64s 255ms/step - loss: 0.6608 - accuracy: 0.6085 - val_loss: 0.6518 - val_accuracy: 0.6140\n",
      "Epoch 3/25\n",
      "250/250 [==============================] - 75s 298ms/step - loss: 0.6300 - accuracy: 0.6503 - val_loss: 0.6136 - val_accuracy: 0.6705\n",
      "Epoch 4/25\n",
      "250/250 [==============================] - 77s 307ms/step - loss: 0.6019 - accuracy: 0.6725 - val_loss: 0.5815 - val_accuracy: 0.6855\n",
      "Epoch 5/25\n",
      "250/250 [==============================] - 116s 464ms/step - loss: 0.5863 - accuracy: 0.6851 - val_loss: 0.5801 - val_accuracy: 0.7000\n",
      "Epoch 6/25\n",
      "250/250 [==============================] - 94s 376ms/step - loss: 0.5697 - accuracy: 0.7067 - val_loss: 0.5509 - val_accuracy: 0.7180\n",
      "Epoch 7/25\n",
      "250/250 [==============================] - 71s 285ms/step - loss: 0.5625 - accuracy: 0.7046 - val_loss: 0.5683 - val_accuracy: 0.7040\n",
      "Epoch 8/25\n",
      "250/250 [==============================] - 78s 311ms/step - loss: 0.5478 - accuracy: 0.7165 - val_loss: 0.5188 - val_accuracy: 0.7420\n",
      "Epoch 9/25\n",
      "250/250 [==============================] - 70s 281ms/step - loss: 0.5420 - accuracy: 0.7260 - val_loss: 0.5320 - val_accuracy: 0.7405\n",
      "Epoch 10/25\n",
      "250/250 [==============================] - 70s 280ms/step - loss: 0.5211 - accuracy: 0.7435 - val_loss: 0.5530 - val_accuracy: 0.7170\n",
      "Epoch 11/25\n",
      "250/250 [==============================] - 69s 278ms/step - loss: 0.5158 - accuracy: 0.7399 - val_loss: 0.5161 - val_accuracy: 0.7540\n",
      "Epoch 12/25\n",
      "250/250 [==============================] - 69s 277ms/step - loss: 0.5093 - accuracy: 0.7419 - val_loss: 0.5045 - val_accuracy: 0.7600\n",
      "Epoch 13/25\n",
      "250/250 [==============================] - 69s 275ms/step - loss: 0.5035 - accuracy: 0.7546 - val_loss: 0.5089 - val_accuracy: 0.7580\n",
      "Epoch 14/25\n",
      "250/250 [==============================] - 69s 274ms/step - loss: 0.4892 - accuracy: 0.7574 - val_loss: 0.4795 - val_accuracy: 0.7710\n",
      "Epoch 15/25\n",
      "250/250 [==============================] - 74s 298ms/step - loss: 0.4811 - accuracy: 0.7653 - val_loss: 0.5207 - val_accuracy: 0.7380\n",
      "Epoch 16/25\n",
      "250/250 [==============================] - 94s 375ms/step - loss: 0.4801 - accuracy: 0.7691 - val_loss: 0.4884 - val_accuracy: 0.7665\n",
      "Epoch 17/25\n",
      "250/250 [==============================] - 78s 312ms/step - loss: 0.4700 - accuracy: 0.7729 - val_loss: 0.4825 - val_accuracy: 0.7670\n",
      "Epoch 18/25\n",
      "250/250 [==============================] - 92s 367ms/step - loss: 0.4718 - accuracy: 0.7710 - val_loss: 0.5076 - val_accuracy: 0.7505\n",
      "Epoch 19/25\n",
      "250/250 [==============================] - 84s 336ms/step - loss: 0.4589 - accuracy: 0.7779 - val_loss: 0.5040 - val_accuracy: 0.7560\n",
      "Epoch 20/25\n",
      "250/250 [==============================] - 78s 310ms/step - loss: 0.4447 - accuracy: 0.7918 - val_loss: 0.5523 - val_accuracy: 0.7340\n",
      "Epoch 21/25\n",
      "250/250 [==============================] - 75s 301ms/step - loss: 0.4407 - accuracy: 0.7945 - val_loss: 0.4791 - val_accuracy: 0.7740\n",
      "Epoch 22/25\n",
      "250/250 [==============================] - 76s 304ms/step - loss: 0.4298 - accuracy: 0.8026 - val_loss: 0.5465 - val_accuracy: 0.7615\n",
      "Epoch 23/25\n",
      "250/250 [==============================] - 81s 325ms/step - loss: 0.4338 - accuracy: 0.7954 - val_loss: 0.5231 - val_accuracy: 0.7545\n",
      "Epoch 24/25\n",
      "250/250 [==============================] - 81s 326ms/step - loss: 0.4293 - accuracy: 0.7987 - val_loss: 0.5136 - val_accuracy: 0.7575\n",
      "Epoch 25/25\n",
      "250/250 [==============================] - 81s 324ms/step - loss: 0.4117 - accuracy: 0.8141 - val_loss: 0.4839 - val_accuracy: 0.7740\n"
     ]
    },
    {
     "data": {
      "text/plain": [
       "<keras.callbacks.History at 0x19287295df0>"
      ]
     },
     "execution_count": 13,
     "metadata": {},
     "output_type": "execute_result"
    }
   ],
   "source": [
    "cnn.fit(x = training_set, validation_data = test_set, epochs = 25)"
   ]
  },
  {
   "attachments": {},
   "cell_type": "markdown",
   "metadata": {},
   "source": [
    "#### Making a Single Prediction:"
   ]
  },
  {
   "cell_type": "code",
   "execution_count": 14,
   "metadata": {},
   "outputs": [
    {
     "data": {
      "text/plain": [
       "{'cats': 0, 'dogs': 1}"
      ]
     },
     "execution_count": 14,
     "metadata": {},
     "output_type": "execute_result"
    }
   ],
   "source": [
    "# To know which output value corresponds to which category:\n",
    "training_set.class_indices"
   ]
  },
  {
   "cell_type": "code",
   "execution_count": 21,
   "metadata": {},
   "outputs": [
    {
     "name": "stdout",
     "output_type": "stream",
     "text": [
      "1/1 [==============================] - 0s 36ms/step\n",
      "dog (0.9330456852912903)\n"
     ]
    }
   ],
   "source": [
    "import numpy as np\n",
    "from keras import utils\n",
    "test_image = utils.load_img('dataset\\single prediction\\Cat_or_Dog 7.jpg', target_size = (64,64))\n",
    "test_image = utils.img_to_array(test_image)\n",
    "test_image = test_image/255.0\n",
    "test_image = np.expand_dims(test_image, axis = 0)\n",
    "result = cnn.predict(test_image)\n",
    "if result[0][0] > 0.5:\n",
    "    prediction = 'dog'\n",
    "else:\n",
    "    prediction = 'cat'\n",
    "print(prediction, f'({result[0][0]})')"
   ]
  }
 ],
 "metadata": {
  "kernelspec": {
   "display_name": "base",
   "language": "python",
   "name": "python3"
  },
  "language_info": {
   "codemirror_mode": {
    "name": "ipython",
    "version": 3
   },
   "file_extension": ".py",
   "mimetype": "text/x-python",
   "name": "python",
   "nbconvert_exporter": "python",
   "pygments_lexer": "ipython3",
   "version": "3.9.12"
  },
  "orig_nbformat": 4,
  "vscode": {
   "interpreter": {
    "hash": "fb4c61518361e332e00e883a4ecdc97d0848aba28b4e2f5990a544321a0785df"
   }
  }
 },
 "nbformat": 4,
 "nbformat_minor": 2
}
